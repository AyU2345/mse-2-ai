{
  "nbformat": 4,
  "nbformat_minor": 0,
  "metadata": {
    "colab": {
      "provenance": [],
      "authorship_tag": "ABX9TyM0raQKOAX9ZS55JSXQVYNL",
      "include_colab_link": true
    },
    "kernelspec": {
      "name": "python3",
      "display_name": "Python 3"
    },
    "language_info": {
      "name": "python"
    }
  },
  "cells": [
    {
      "cell_type": "markdown",
      "metadata": {
        "id": "view-in-github",
        "colab_type": "text"
      },
      "source": [
        "<a href=\"https://colab.research.google.com/github/AyU2345/mse-2-ai/blob/main/AI_MSE_2.ipynb\" target=\"_parent\"><img src=\"https://colab.research.google.com/assets/colab-badge.svg\" alt=\"Open In Colab\"/></a>"
      ]
    },
    {
      "cell_type": "code",
      "execution_count": 1,
      "metadata": {
        "colab": {
          "base_uri": "https://localhost:8080/",
          "height": 618
        },
        "id": "RGhYqCBeowU6",
        "outputId": "a828acfe-f3a8-47d6-cef5-28af25cf19db"
      },
      "outputs": [
        {
          "output_type": "stream",
          "name": "stdout",
          "text": [
            "Classification Report:\n",
            "\n",
            "              precision    recall  f1-score   support\n",
            "\n",
            "        High       0.53      0.51      0.52        99\n",
            "         Low       0.20      0.08      0.11        26\n",
            "      Medium       0.43      0.55      0.48        75\n",
            "\n",
            "    accuracy                           0.47       200\n",
            "   macro avg       0.39      0.38      0.37       200\n",
            "weighted avg       0.45      0.47      0.45       200\n",
            "\n"
          ]
        },
        {
          "output_type": "display_data",
          "data": {
            "text/plain": [
              "<Figure size 600x400 with 2 Axes>"
            ],
            "image/png": "[encoded data removed]"
          },
          "metadata": {}
        }
      ],
      "source": [
        "# Step 1: Install Required Libraries\n",
        "!pip install pandas scikit-learn matplotlib seaborn --quiet\n",
        "\n",
        "# Step 2: Import Libraries\n",
        "import pandas as pd\n",
        "import numpy as np\n",
        "from sklearn.model_selection import train_test_split\n",
        "from sklearn.preprocessing import LabelEncoder, StandardScaler\n",
        "from sklearn.ensemble import RandomForestClassifier\n",
        "from sklearn.metrics import classification_report, confusion_matrix\n",
        "import seaborn as sns\n",
        "import matplotlib.pyplot as plt\n",
        "\n",
        "# Step 3: Load Dataset (Option 1: Upload your dataset)\n",
        "# from google.colab import files\n",
        "# uploaded = files.upload()\n",
        "# df = pd.read_csv('your_file.csv')\n",
        "\n",
        "# Step 3: OR Simulate a Dataset\n",
        "data = {\n",
        "    'Engine_Size': np.random.uniform(1.0, 6.0, 1000),\n",
        "    'Cylinders': np.random.choice([4, 6, 8], 1000),\n",
        "    'Fuel_Type': np.random.choice(['Petrol', 'Diesel', 'Electric', 'Hybrid'], 1000),\n",
        "    'Fuel_Consumption': np.random.uniform(4.0, 20.0, 1000),\n",
        "    'CO2_Emissions': np.random.randint(80, 400, 1000)\n",
        "}\n",
        "df = pd.DataFrame(data)\n",
        "\n",
        "# Classify emissions into categories\n",
        "def emission_category(co2):\n",
        "    if co2 < 120:\n",
        "        return 'Low'\n",
        "    elif co2 < 250:\n",
        "        return 'Medium'\n",
        "    else:\n",
        "        return 'High'\n",
        "\n",
        "df['Emission_Category'] = df['CO2_Emissions'].apply(emission_category)\n",
        "\n",
        "# Step 4: Preprocess Data\n",
        "X = df[['Engine_Size', 'Cylinders', 'Fuel_Type', 'Fuel_Consumption']]\n",
        "y = df['Emission_Category']\n",
        "\n",
        "# Encode categorical variables\n",
        "X = pd.get_dummies(X, columns=['Fuel_Type'], drop_first=True)\n",
        "le = LabelEncoder()\n",
        "y = le.fit_transform(y)\n",
        "\n",
        "# Standardize features\n",
        "scaler = StandardScaler()\n",
        "X_scaled = scaler.fit_transform(X)\n",
        "\n",
        "# Step 5: Train-Test Split\n",
        "X_train, X_test, y_train, y_test = train_test_split(X_scaled, y, test_size=0.2, random_state=42)\n",
        "\n",
        "# Step 6: Train Model\n",
        "model = RandomForestClassifier(n_estimators=100, random_state=42)\n",
        "model.fit(X_train, y_train)\n",
        "\n",
        "# Step 7: Predict and Evaluate\n",
        "y_pred = model.predict(X_test)\n",
        "\n",
        "print(\"Classification Report:\\n\")\n",
        "print(classification_report(y_test, y_pred, target_names=le.classes_))\n",
        "\n",
        "# Confusion Matrix\n",
        "plt.figure(figsize=(6,4))\n",
        "sns.heatmap(confusion_matrix(y_test, y_pred), annot=True, fmt='d',\n",
        "            xticklabels=le.classes_, yticklabels=le.classes_, cmap='Blues')\n",
        "plt.xlabel(\"Predicted\")\n",
        "plt.ylabel(\"Actual\")\n",
        "plt.title(\"Confusion Matrix\")\n",
        "plt.show()\n"
      ]
    }
  ]
}